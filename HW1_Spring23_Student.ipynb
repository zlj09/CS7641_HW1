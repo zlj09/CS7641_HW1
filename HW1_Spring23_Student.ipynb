{
 "cells": [
  {
   "cell_type": "markdown",
   "metadata": {
    "id": "xs9yYSRW_Mvs"
   },
   "source": [
    "## Spring 2023 CS4641/CS7641 A Homework 1 - Programming Section\n",
    "\n",
    "## Instructor: Dr. Mahdi Roozbahani\n",
    "\n",
    "## Deadline: Friday, February 10th, 11:59 pm EST\n",
    "\n",
    "<!-- No changes needed on the below section -->\n",
    "* No unapproved extension of the deadline is allowed. Submissions past our 48-hour penalized acceptance period will lead to 0 credit. \n",
    "\n",
    "* Discussion is encouraged on Ed as part of the Q/A. However, all assignments should be done individually.\n",
    "<font color='darkred'>\n",
    "* Plagiarism is a **serious offense**. You are responsible for completing your own work. You are not allowed to copy and paste, or paraphrase, or submit materials created or published by others, as if you created the materials. All materials submitted must be your own.</font>\n",
    "<font color='darkred'>\n",
    "* All incidents of suspected dishonesty, plagiarism, or violations of the Georgia Tech Honor Code will be subject to the institute’s Academic Integrity procedures. If we observe any (even small) similarities/plagiarisms detected by Gradescope or our TAs, **WE WILL DIRECTLY REPORT ALL CASES TO OSI**, which may, unfortunately, lead to a very harsh outcome. **Consequences can be severe, e.g., academic probation or dismissal, grade penalties, a 0 grade for assignments concerned, and prohibition from withdrawing from the class.**\n",
    "</font>\n"
   ]
  },
  {
   "cell_type": "markdown",
   "metadata": {
    "id": "uI6nZBMF_Mvw",
    "tags": []
   },
   "source": [
    "## Instructions for the assignment \n",
    "\n",
    "<!-- No changes needed on the below section -->\n",
    "- This assignment consists of warm-up programming questions designed to get you familiar with our programming homework structure."
   ]
  },
  {
   "cell_type": "markdown",
   "metadata": {
    "id": "g7stIuyo_Mvx"
   },
   "source": [
    "## Using the autograder\n",
    "\n",
    "- Grads will typically find three assignments on Gradescope and Undergrads will typically find four assignments:\n",
    "    - \"Assignment X Non-programming\": Where you will submit the written portion of the assignment.\n",
    "    - \"Assignment X Programming\": Where you will submit any .py files and any program outputs as required by the problem.\n",
    "    - \"Assignment X Programming - Bonus for All\": Where you will submit any .py files and any program outputs as required for Bonus for All.\n",
    "    - \"Assignment X Programming - Bonus for Undergrad\": Where you will submit any .py files and any program outputs as required for Bonus for Undergrand. (Undergrad Only)\n",
    "\n",
    "<!-- No changes needed on the below section -->\n",
    "- You will submit your code for the autograder in the Assignment 1 Programming section. \n",
    "\n",
    "- We provided you .py files and we added libraries in those files please DO NOT remove those lines and add your code after those lines. Note that these are the only allowed libraries that you can use for the homework.\n",
    "\n",
    "- You are allowed to make as many submissions until the deadline as you like. Additionally, note that the autograder tests each function separately, therefore it can serve as a useful tool to help you debug your code if you are not sure of what part of your implementation might have an issue.\n",
    "<!-- No changes needed on the above section -->"
   ]
  },
  {
   "cell_type": "markdown",
   "metadata": {
    "id": "_Nz2030u_Mvy",
    "tags": []
   },
   "source": [
    "## Deliverables and Points Distribution \n",
    "\n",
    "### Q6: Programming Warm-Up [2pts total]\n",
    "#### Deliverables: \n",
    "- `warmup.py`\n",
    "- `env.pkl`\n",
    "\n",
    "#### Parts: \n",
    "- **Setup** [1pts] - *programming*\n",
    "\n",
    "- **Numpy** [1pts] - _programming_\n",
    "    - Numpy Basics [0.5pts]\n",
    "    - Broadcasting [0.5pts] "
   ]
  },
  {
   "cell_type": "markdown",
   "metadata": {
    "id": "cKKsCsvo_Mvz"
   },
   "source": [
    "## 6.1 Setup [1pt]\n",
    "\n",
    "- **Deliverable:** `env.pkl`\n",
    "\n",
    "This notebook is tested under [python 3.10.9](https://docs.python.org/release/3.10.9/), and the corresponding packages can be downloaded from [miniconda](https://docs.conda.io/en/latest/miniconda.html). You may also want to get yourself familiar with several packages:\n",
    "\n",
    "- [jupyter lab](https://jupyterlab.readthedocs.io/en/stable/): provides a web-based IDE with a built-in debugging functionality for jupyter notebooks.\n",
    "- [numpy](https://numpy.org/doc/1.23/): a high performance math library backed by C\n",
    "- [matplotlib](https://matplotlib.org/users/pyplot_tutorial.html): a python plotting libaray\n",
    "\n",
    "Other packages you may find indispensable in machine learning (and potentially your project) are:\n",
    "  \n",
    "- [scikit-learn](https://scikit-learn.org/stable/getting_started.html): provides many classical ML and data analysis algorithms\n",
    "- [pandas](https://pandas.pydata.org/docs/): provides many useful tools for organizing and manipulating data\n",
    "- [seaborn](https://seaborn.pydata.org/tutorial/introduction.html): make beatiful plots with less fidgeting in matplotlib\n",
    "- [plotly](https://plotly.com/python/): another great data visualization package\n",
    "\n",
    "Please implement the functions that have \"raise NotImplementedError\", and after you finish the coding, please delete or comment \"raise NotImplementedError\"."
   ]
  },
  {
   "cell_type": "code",
   "execution_count": 1,
   "metadata": {},
   "outputs": [
    {
     "name": "stdout",
     "output_type": "stream",
     "text": [
      "Version information\n",
      "python: 3.10.9 | packaged by conda-forge | (main, Jan 11 2023, 15:15:40) [MSC v.1916 64 bit (AMD64)]\n",
      "numpy: 1.23.5\n"
     ]
    }
   ],
   "source": [
    "###############################\n",
    "### DO NOT CHANGE THIS CELL ###\n",
    "###############################\n",
    "\n",
    "import sys\n",
    "import numpy as np\n",
    "\n",
    "print('Version information')\n",
    "\n",
    "print('python: {}'.format(sys.version))\n",
    "print('numpy: {}'.format(np.__version__))\n",
    "\n",
    "\n",
    "%load_ext autoreload\n",
    "%autoreload 2"
   ]
  },
  {
   "cell_type": "markdown",
   "metadata": {
    "id": "Ysr89SO3_Mv0"
   },
   "source": [
    "### 6.1.1 Basics, Imports, and Directories\n",
    "For the following part, you will need to ensure your notebook runtime is started in the correct directory. You can verify this with the following cell."
   ]
  },
  {
   "cell_type": "code",
   "execution_count": 2,
   "metadata": {
    "scrolled": true
   },
   "outputs": [
    {
     "data": {
      "text/plain": [
       "'c:\\\\Users\\\\Lingjun\\\\OneDrive - Georgia Institute of Technology\\\\Academic\\\\Machine Learning\\\\Homework\\\\Assignment 1\\\\Programming\\\\hw1_code'"
      ]
     },
     "execution_count": 2,
     "metadata": {},
     "output_type": "execute_result"
    }
   ],
   "source": [
    "###############################\n",
    "### DO NOT CHANGE THIS CELL ###\n",
    "###############################\n",
    "\n",
    "# RUN ME #\n",
    "import os\n",
    "os.getcwd()"
   ]
  },
  {
   "cell_type": "markdown",
   "metadata": {},
   "source": [
    "In the cell below, import the `PackageUtils` class from `utils.py` located in the `utilities` folder."
   ]
  },
  {
   "cell_type": "code",
   "execution_count": 11,
   "metadata": {},
   "outputs": [],
   "source": [
    "# YOUR CODE HERE #\n",
    "\n",
    "from utilities.utils import PackageUtils\n",
    "\n"
   ]
  },
  {
   "cell_type": "markdown",
   "metadata": {},
   "source": [
    "In the cell below, call the `get_packages` method of the PackageUtils class to see what packages are installed in this notebook's runtime environment."
   ]
  },
  {
   "cell_type": "code",
   "execution_count": 13,
   "metadata": {
    "scrolled": false,
    "tags": []
   },
   "outputs": [
    {
     "name": "stdout",
     "output_type": "stream",
     "text": [
      "anyio @ file:///C:/ci/anyio_1644481856696/work/dist\n",
      "argon2-cffi @ file:///opt/conda/conda-bld/argon2-cffi_1645000214183/work\n",
      "argon2-cffi-bindings @ file:///C:/ci/argon2-cffi-bindings_1644569876605/work\n",
      "asttokens @ file:///opt/conda/conda-bld/asttokens_1646925590279/work\n",
      "attrs @ file:///C:/b/abs_09s3y775ra/croot/attrs_1668696195628/work\n",
      "Babel @ file:///C:/b/abs_a2shv_3tqi/croot/babel_1671782804377/work\n",
      "backcall @ file:///home/ktietz/src/ci/backcall_1611930011877/work\n",
      "beautifulsoup4 @ file:///C:/ci/beautifulsoup4_1650293028159/work\n",
      "bleach @ file:///opt/conda/conda-bld/bleach_1641577558959/work\n",
      "Bottleneck @ file:///C:/Windows/Temp/abs_3198ca53-903d-42fd-87b4-03e6d03a8381yfwsuve8/croots/recipe/bottleneck_1657175565403/work\n",
      "brotlipy==0.7.0\n",
      "certifi @ file:///C:/b/abs_85o_6fm0se/croot/certifi_1671487778835/work/certifi\n",
      "cffi @ file:///C:/b/abs_49n3v2hyhr/croot/cffi_1670423218144/work\n",
      "charset-normalizer @ file:///tmp/build/80754af9/charset-normalizer_1630003229654/work\n",
      "cloudpickle @ file:///tmp/build/80754af9/cloudpickle_1632508026186/work\n",
      "colorama @ file:///C:/b/abs_a9ozq0l032/croot/colorama_1672387194846/work\n",
      "comm @ file:///C:/b/abs_1419earm7u/croot/comm_1671231131638/work\n",
      "contourpy @ file:///C:/b/abs_d5rpy288vc/croots/recipe/contourpy_1663827418189/work\n",
      "cryptography @ file:///C:/b/abs_b7d7drzbky/croot/cryptography_1673298763653/work\n",
      "cycler @ file:///tmp/build/80754af9/cycler_1637851556182/work\n",
      "cytoolz @ file:///C:/b/abs_61m9vzb4qh/croot/cytoolz_1667465938275/work\n",
      "dask @ file:///C:/ci/dask-core_1658497112560/work\n",
      "debugpy @ file:///C:/ci_310/debugpy_1642079916595/work\n",
      "decorator @ file:///opt/conda/conda-bld/decorator_1643638310831/work\n",
      "defusedxml @ file:///tmp/build/80754af9/defusedxml_1615228127516/work\n",
      "entrypoints @ file:///C:/ci/entrypoints_1649926676279/work\n",
      "executing @ file:///opt/conda/conda-bld/executing_1646925071911/work\n",
      "fastjsonschema @ file:///C:/Users/BUILDE~1/AppData/Local/Temp/abs_ebruxzvd08/croots/recipe/python-fastjsonschema_1661376484940/work\n",
      "flit_core @ file:///opt/conda/conda-bld/flit-core_1644941570762/work/source/flit_core\n",
      "fonttools==4.25.0\n",
      "fsspec @ file:///C:/b/abs_5bjz6v0w_f/croot/fsspec_1670336608940/work\n",
      "idna @ file:///C:/b/abs_bdhbebrioa/croot/idna_1666125572046/work\n",
      "imagecodecs @ file:///C:/b/abs_948ub5byiu/croots/recipe/imagecodecs_1664562381493/work\n",
      "imageio @ file:///C:/Windows/TEMP/abs_24c1b783-7540-4ca9-a1b1-0e8aa8e6ae64hb79ssux/croots/recipe/imageio_1658785038775/work\n",
      "ipykernel @ file:///C:/b/abs_b4f07tbsyd/croot/ipykernel_1672767104060/work\n",
      "ipython @ file:///C:/b/abs_d4_i9p0_36/croot/ipython_1674681439495/work\n",
      "ipython-genutils @ file:///tmp/build/80754af9/ipython_genutils_1606773439826/work\n",
      "ipywidgets @ file:///tmp/build/80754af9/ipywidgets_1634143127070/work\n",
      "jedi @ file:///C:/ci/jedi_1644315428305/work\n",
      "Jinja2 @ file:///C:/b/abs_7cdis66kl9/croot/jinja2_1666908141852/work\n",
      "joblib @ file:///C:/b/abs_e60_bwl1v6/croot/joblib_1666298845728/work\n",
      "json5 @ file:///tmp/build/80754af9/json5_1624432770122/work\n",
      "jsonschema @ file:///C:/b/abs_59eyhnbyej/croots/recipe/jsonschema_1663375476535/work\n",
      "jupyter-server @ file:///C:/b/abs_1cfi3__jl8/croot/jupyter_server_1671707636383/work\n",
      "jupyter_client @ file:///C:/b/abs_b9pns5mx5p/croot/jupyter_client_1671703062216/work\n",
      "jupyter_core @ file:///C:/b/abs_84df679bho/croot/jupyter_core_1672332237650/work\n",
      "jupyterlab @ file:///C:/b/abs_513jt6yy74/croot/jupyterlab_1675354138043/work\n",
      "jupyterlab-pygments @ file:///tmp/build/80754af9/jupyterlab_pygments_1601490720602/work\n",
      "jupyterlab-widgets @ file:///tmp/build/80754af9/jupyterlab_widgets_1609884341231/work\n",
      "jupyterlab_server @ file:///C:/b/abs_5ayr1vni0w/croot/jupyterlab_server_1672127362727/work\n",
      "kiwisolver @ file:///C:/b/abs_88mdhvtahm/croot/kiwisolver_1672387921783/work\n",
      "locket @ file:///C:/ci/locket_1652904090946/work\n",
      "lxml @ file:///C:/ci/lxml_1657527492694/work\n",
      "MarkupSafe @ file:///C:/ci/markupsafe_1654508036328/work\n",
      "matplotlib @ file:///C:/b/abs_03z_dj2gty/croot/matplotlib-suite_1670466145509/work\n",
      "matplotlib-inline @ file:///C:/ci/matplotlib-inline_1661934094726/work\n",
      "mistune @ file:///C:/ci_310/mistune_1642084168466/work\n",
      "mkl-fft==1.3.1\n",
      "mkl-random @ file:///C:/ci_310/mkl_random_1643050563308/work\n",
      "mkl-service==2.4.0\n",
      "munkres==1.1.4\n",
      "nbclassic @ file:///C:/b/abs_26e3fkk516/croot/nbclassic_1668174974037/work\n",
      "nbclient @ file:///C:/ci/nbclient_1650308592199/work\n",
      "nbconvert @ file:///C:/b/abs_4av3q4okro/croot/nbconvert_1668450658054/work\n",
      "nbformat @ file:///C:/b/abs_85_3g7dkt4/croot/nbformat_1670352343720/work\n",
      "nest-asyncio @ file:///C:/b/abs_3a_4jsjlqu/croot/nest-asyncio_1672387322800/work\n",
      "networkx @ file:///C:/ci/networkx_1657716953747/work\n",
      "notebook @ file:///C:/b/abs_ca13hqvuzw/croot/notebook_1668179888546/work\n",
      "notebook_shim @ file:///C:/b/abs_ebfczttg6x/croot/notebook-shim_1668160590914/work\n",
      "numexpr @ file:///C:/b/abs_a7kbak88hk/croot/numexpr_1668713882979/work\n",
      "numpy @ file:///C:/b/abs_datssh7cer/croot/numpy_and_numpy_base_1672336199388/work\n",
      "packaging @ file:///C:/b/abs_cfsup8ur87/croot/packaging_1671697442297/work\n",
      "pandas @ file:///C:/b/abs_c6fuezktfm/croot/pandas_1670425103552/work\n",
      "pandocfilters @ file:///opt/conda/conda-bld/pandocfilters_1643405455980/work\n",
      "parso @ file:///opt/conda/conda-bld/parso_1641458642106/work\n",
      "partd @ file:///opt/conda/conda-bld/partd_1647245470509/work\n",
      "patsy==0.5.3\n",
      "pickleshare @ file:///tmp/build/80754af9/pickleshare_1606932040724/work\n",
      "Pillow==9.3.0\n",
      "pip==22.3.1\n",
      "platformdirs @ file:///C:/b/abs_73cc5cz_1u/croots/recipe/platformdirs_1662711386458/work\n",
      "ply==3.11\n",
      "prometheus-client @ file:///C:/Windows/TEMP/abs_ab9nx8qb08/croots/recipe/prometheus_client_1659455104602/work\n",
      "prompt-toolkit @ file:///C:/b/abs_6coz5_9f2s/croot/prompt-toolkit_1672387908312/work\n",
      "psutil @ file:///C:/Windows/Temp/abs_b2c2fd7f-9fd5-4756-95ea-8aed74d0039flsd9qufz/croots/recipe/psutil_1656431277748/work\n",
      "pure-eval @ file:///opt/conda/conda-bld/pure_eval_1646925070566/work\n",
      "pycparser @ file:///tmp/build/80754af9/pycparser_1636541352034/work\n",
      "Pygments @ file:///opt/conda/conda-bld/pygments_1644249106324/work\n",
      "pyOpenSSL @ file:///opt/conda/conda-bld/pyopenssl_1643788558760/work\n",
      "pyparsing @ file:///C:/Users/BUILDE~1/AppData/Local/Temp/abs_7f_7lba6rl/croots/recipe/pyparsing_1661452540662/work\n",
      "PyQt5==5.15.7\n",
      "PyQt5-sip @ file:///C:/Windows/Temp/abs_d7gmd2jg8i/croots/recipe/pyqt-split_1659273064801/work/pyqt_sip\n",
      "pyrsistent @ file:///C:/ci_310/pyrsistent_1642117077485/work\n",
      "PySocks @ file:///C:/ci_310/pysocks_1642089375450/work\n",
      "python-dateutil @ file:///tmp/build/80754af9/python-dateutil_1626374649649/work\n",
      "pytz @ file:///C:/b/abs_22fofvpn1x/croot/pytz_1671698059864/work\n",
      "PyWavelets @ file:///C:/b/abs_a8r4b1511a/croot/pywavelets_1670425185881/work\n",
      "pywin32==305.1\n",
      "pywinpty @ file:///C:/ci_310/pywinpty_1644230983541/work/target/wheels/pywinpty-2.0.2-cp310-none-win_amd64.whl\n",
      "PyYAML @ file:///C:/b/abs_d0g7dqt2xw/croot/pyyaml_1670514768165/work\n",
      "pyzmq @ file:///C:/ci/pyzmq_1657616000714/work\n",
      "requests @ file:///C:/ci/requests_1657735340829/work\n",
      "scikit-image @ file:///C:/b/abs_63r0vmx78u/croot/scikit-image_1669241746873/work\n",
      "scikit-learn @ file:///C:/b/abs_e01rh8f1vi/croot/scikit-learn_1675454931501/work\n",
      "scipy==1.9.3\n",
      "seaborn @ file:///C:/b/abs_68ltdkoyoo/croot/seaborn_1673479199997/work\n",
      "Send2Trash @ file:///tmp/build/80754af9/send2trash_1632406701022/work\n",
      "setuptools==65.6.3\n",
      "sip @ file:///C:/Windows/Temp/abs_b8fxd17m2u/croots/recipe/sip_1659012372737/work\n",
      "six @ file:///tmp/build/80754af9/six_1644875935023/work\n",
      "sniffio @ file:///C:/ci_310/sniffio_1642092172680/work\n",
      "soupsieve @ file:///C:/b/abs_fasraqxhlv/croot/soupsieve_1666296394662/work\n",
      "stack-data @ file:///opt/conda/conda-bld/stack_data_1646927590127/work\n",
      "statsmodels @ file:///C:/b/abs_2e2bzve9ig/croot/statsmodels_1674588828901/work\n",
      "terminado @ file:///C:/b/abs_25nakickad/croot/terminado_1671751845491/work\n",
      "threadpoolctl @ file:///Users/ktietz/demo/mc3/conda-bld/threadpoolctl_1629802263681/work\n",
      "tifffile @ file:///tmp/build/80754af9/tifffile_1627275862826/work\n",
      "tinycss2 @ file:///C:/b/abs_52w5vfuaax/croot/tinycss2_1668168823131/work\n",
      "toml @ file:///tmp/build/80754af9/toml_1616166611790/work\n",
      "tomli @ file:///C:/Windows/TEMP/abs_ac109f85-a7b3-4b4d-bcfd-52622eceddf0hy332ojo/croots/recipe/tomli_1657175513137/work\n",
      "toolz @ file:///C:/b/abs_cfvk6rc40d/croot/toolz_1667464080130/work\n",
      "tornado @ file:///C:/ci/tornado_1662476985533/work\n",
      "tqdm @ file:///C:/b/abs_0axbz66qik/croots/recipe/tqdm_1664392691071/work\n",
      "traitlets @ file:///C:/b/abs_e5m_xjjl94/croot/traitlets_1671143896266/work\n",
      "tweet-preprocessor==0.6.0\n",
      "typing_extensions @ file:///C:/b/abs_89eui86zuq/croot/typing_extensions_1669923792806/work\n",
      "urllib3 @ file:///C:/b/abs_9bcwxczrvm/croot/urllib3_1673575521331/work\n",
      "wcwidth @ file:///Users/ktietz/demo/mc3/conda-bld/wcwidth_1629357192024/work\n",
      "webencodings==0.5.1\n",
      "websocket-client @ file:///C:/ci_310/websocket-client_1642093970919/work\n",
      "wheel==0.37.1\n",
      "widgetsnbextension @ file:///C:/ci/widgetsnbextension_1645009839917/work\n",
      "win-inet-pton @ file:///C:/ci_310/win_inet_pton_1642658466512/work\n",
      "wincertstore==0.2\n"
     ]
    }
   ],
   "source": [
    "# YOUR CODE HERE #\n",
    "pkg_utils = PackageUtils()\n",
    "pkg_utils.get_packages()"
   ]
  },
  {
   "cell_type": "markdown",
   "metadata": {},
   "source": [
    "### 6.1.2 Local Testing & Debugging\n",
    "\n",
    "Optional local tests using a small toy dataset are sometimes provided to aid in debugging. The local tests are all stored in localtests.py\n",
    "#### The autograder is the final arbiter\n",
    "- There are no points associated with passing or failing the local tests, you must still pass the autograder to get points. \n",
    "- It is possible to fail the local test and pass the autograder.\n",
    "    - The autograder may have tolerances to account for minor implementation differences. \n",
    "    - The reverse is also true, as the autograder may cover a larger number of corner cases.\n",
    "- **You do not need to pass both local and autograder tests to get points, passing the Gradescope autograder is sufficient for credit.**\n",
    "\n",
    "#### Work smarter, not harder\n",
    "- Read the stack trace carefully. Often it will tell you exactly what's wrong.\n",
    "- Understand what the local-test is doing. That way you can develop your own tests. \n",
    "- Grow beyond the print statement: embrace a debugger. Jupyter-lab has a [built in debugger](https://jupyterlab.readthedocs.io/en/stable/user/debugger.html) which allows you to look at data types, set breakpoints, and examine variables. If using a different IDE, look up your IDE's documentation on how to setup a proper debugger. \n",
    "- Develop incrementally and test frequently, both locally and on Gradescope. Waiting to complete the whole class before testing can make it hard to isolate errors. "
   ]
  },
  {
   "cell_type": "markdown",
   "metadata": {},
   "source": [
    "For this problem perform the following in the cell below: \n",
    "- import `WarmupTests` from the `localtests.py` in the `utilities` folder. \n",
    "- Run the cell and submit `env.pkl`"
   ]
  },
  {
   "cell_type": "code",
   "execution_count": 14,
   "metadata": {},
   "outputs": [
    {
     "name": "stderr",
     "output_type": "stream",
     "text": [
      ".\n",
      "----------------------------------------------------------------------\n",
      "Ran 1 test in 0.005s\n",
      "\n",
      "OK\n"
     ]
    },
    {
     "name": "stdout",
     "output_type": "stream",
     "text": [
      "Passed test_get_packages\n"
     ]
    },
    {
     "data": {
      "text/plain": [
       "<unittest.main.TestProgram at 0x256cd2b35b0>"
      ]
     },
     "execution_count": 14,
     "metadata": {},
     "output_type": "execute_result"
    }
   ],
   "source": [
    "import unittest\n",
    "\n",
    "# YOUR CODE HERE #\n",
    "# import WarmupTests from the localtests.py in the utilities folder. \n",
    "\n",
    "from utilities.localtests import WarmupTests\n",
    "\n",
    "\n",
    "\n",
    "# END YOUR CODE ABOVE #\n",
    "\n",
    "\n",
    "\n",
    "\n",
    "# Do not change below #\n",
    "unittest.main(argv=['ignored', 'WarmupTests.test_get_packages'], verbosity=1, exit=False)"
   ]
  },
  {
   "cell_type": "markdown",
   "metadata": {},
   "source": [
    "## 6.2 Numpy Basics [0.5pt]\n",
    "The following exercise will familiarize you with the basics of working with Numpy and navigating the [numpy documentation](https://numpy.org/doc/1.23/reference/index.html)\n",
    "\n",
    "In `warmup.py` you will implement several \"one-liners\" using functions provided by numpy. No points will be awarded on Gradescope for any use of for loops or list comprehensions. Implement the following functions in `warmup.py`:\n",
    "\n",
    "- indices_of_k\n",
    "- argmax_1d\n",
    "- mean_rows\n",
    "- sum_squares\n",
    "\n",
    "You may test your implementation with the below local tests. These local tests only checks the returned values of your implementation and does not check whether your implementation uses loops. Gradescope will check to make sure your implementation does not use loops (for, while, or list comprehensions)."
   ]
  },
  {
   "cell_type": "code",
   "execution_count": 16,
   "metadata": {
    "scrolled": false
   },
   "outputs": [
    {
     "name": "stderr",
     "output_type": "stream",
     "text": [
      ".....\n",
      "----------------------------------------------------------------------\n",
      "Ran 5 tests in 0.003s\n",
      "\n",
      "OK\n"
     ]
    },
    {
     "name": "stdout",
     "output_type": "stream",
     "text": [
      "Correct Values for argmax_1d\n",
      "Passed test_get_packages\n",
      "Correct Values for indices_of_k\n",
      "Correct Values for mean_rows\n",
      "Correct Values for sum_squares\n"
     ]
    },
    {
     "data": {
      "text/plain": [
       "<unittest.main.TestProgram at 0x256cc91e350>"
      ]
     },
     "execution_count": 16,
     "metadata": {},
     "output_type": "execute_result"
    }
   ],
   "source": [
    "###############################\n",
    "### DO NOT CHANGE THIS CELL ###\n",
    "###############################\n",
    "import unittest\n",
    "from utilities.localtests import WarmupTests\n",
    "unittest.main(argv=[''], verbosity=1, exit=False)"
   ]
  },
  {
   "cell_type": "markdown",
   "metadata": {},
   "source": [
    "## 6.3 Broadcasting [0.5pt]\n",
    "\n",
    "One of the simplest and most common similarity metrics in ML is the Manhattan Distance or [taxicab-distance](https://en.wikipedia.org/wiki/Taxicab_geometry). The function below takes two lists of $N$ points in $D$ dimensional space (NxD numpy arrays) and computes the Manhattan distance between every possible pair of points. *Hint: you can use this to try creating your own unittests*\n",
    "\n",
    "Unfortunately such an implementation is too slow for a large dataset. In `fast_manhattan` leverage the broadcasting properties of numpy to create a faster version in a single line."
   ]
  },
  {
   "cell_type": "code",
   "execution_count": 17,
   "metadata": {},
   "outputs": [],
   "source": [
    "###############################\n",
    "### DO NOT CHANGE THIS CELL ###\n",
    "###############################\n",
    "\n",
    "import numpy as np\n",
    "def slow_manhattan(x, y):\n",
    "    \"\"\"\n",
    "    Args:\n",
    "        x: N x D numpy array\n",
    "        y: M x D numpy array\n",
    "     Return:\n",
    "        dist: N x M numpy array, where dist[i, j] is the Manhattan distance between\n",
    "        x[i, :] and y[j, :]\n",
    "    \"\"\"\n",
    "    dist = np.empty((x.shape[0], y.shape[0]))\n",
    "    for i in range(x.shape[0]):\n",
    "        for j in range(y.shape[0]):\n",
    "            d = 0\n",
    "            for k in range(x.shape[1]):\n",
    "                d += abs(x[i][k]-y[j][k])\n",
    "            dist[i][j] = d\n",
    "    return dist"
   ]
  },
  {
   "cell_type": "markdown",
   "metadata": {},
   "source": [
    "Let's test the speed of this naive implementation:"
   ]
  },
  {
   "cell_type": "code",
   "execution_count": 18,
   "metadata": {},
   "outputs": [
    {
     "name": "stdout",
     "output_type": "stream",
     "text": [
      "12.6 ms ± 41.1 µs per loop (mean ± std. dev. of 7 runs, 100 loops each)\n"
     ]
    }
   ],
   "source": [
    "%%timeit\n",
    "\n",
    "###############################\n",
    "### DO NOT CHANGE THIS CELL ###\n",
    "###############################\n",
    "\n",
    "x = np.random.rand(100, 3)\n",
    "y = np.random.rand(100, 3)\n",
    "d = slow_manhattan(x, y)"
   ]
  },
  {
   "cell_type": "markdown",
   "metadata": {},
   "source": [
    "Compare this with the vectorized implementation:"
   ]
  },
  {
   "cell_type": "code",
   "execution_count": 19,
   "metadata": {},
   "outputs": [],
   "source": [
    "###############################\n",
    "### DO NOT CHANGE THIS CELL ###\n",
    "###############################\n",
    "\n",
    "import warmup"
   ]
  },
  {
   "cell_type": "code",
   "execution_count": 20,
   "metadata": {},
   "outputs": [
    {
     "name": "stdout",
     "output_type": "stream",
     "text": [
      "146 µs ± 1.7 µs per loop (mean ± std. dev. of 7 runs, 10,000 loops each)\n"
     ]
    }
   ],
   "source": [
    "%%timeit\n",
    "\n",
    "###############################\n",
    "### DO NOT CHANGE THIS CELL ###\n",
    "###############################\n",
    "\n",
    "x = np.random.rand(100, 3)\n",
    "y = np.random.rand(100, 3)\n",
    "d = warmup.fast_manhattan(x, y)"
   ]
  },
  {
   "cell_type": "markdown",
   "metadata": {},
   "source": [
    "Finally for `multiple_choice` answer the following by returning the correct integer value: \n",
    "\n",
    "Which of the following best describes the space and time complexity of `slow_manhattan` compared to `fast_manhattan`:\n",
    "- return 0 if: `fast_manhattan` has lower space and time complexity.\n",
    "- return 1 if: `slow_manhattan` has lower space complexity and the same time complexity.\n",
    "- return 2 if: `fast_manhattan` has higher space complexity and lower time complexity.\n",
    "- return 3 if: Both are about the same in space and time complexity."
   ]
  },
  {
   "cell_type": "code",
   "execution_count": 21,
   "metadata": {},
   "outputs": [
    {
     "data": {
      "text/plain": [
       "0"
      ]
     },
     "execution_count": 21,
     "metadata": {},
     "output_type": "execute_result"
    }
   ],
   "source": [
    "###############################\n",
    "### DO NOT CHANGE THIS CELL ###\n",
    "###############################\n",
    "\n",
    "warmup.multiple_choice()"
   ]
  }
 ],
 "metadata": {
  "colab": {
   "collapsed_sections": [
    "xuEnlmN4_Mv5",
    "OYMGmHnb_Mv5",
    "AsQ451om_Mv6",
    "F6RKWYnT_Mv6",
    "B5lmW2uC_Mv6",
    "fKoOWjNL_Mv6",
    "vEH3Rq6I_Mv7",
    "Ig0zfoum_Mv8",
    "Cj-SyonU_Mv9",
    "nVoCLl_3_Mv9",
    "7EOWVBev_Mv9",
    "XNi4X5bk_MwB",
    "CoW4bOY1_MwC",
    "3xqpO5wU_MwD",
    "47oHreu7_MwD",
    "-vmUAYXN_MwD"
   ],
   "name": "SUMMER2022_HW2_Solutions.ipynb",
   "provenance": []
  },
  "kernelspec": {
   "display_name": "ml_hw1",
   "language": "python",
   "name": "python3"
  },
  "language_info": {
   "codemirror_mode": {
    "name": "ipython",
    "version": 3
   },
   "file_extension": ".py",
   "mimetype": "text/x-python",
   "name": "python",
   "nbconvert_exporter": "python",
   "pygments_lexer": "ipython3",
   "version": "3.10.9"
  },
  "vscode": {
   "interpreter": {
    "hash": "365dea9b9e893bed7bbf769c843d70fa9acb1649a6717b9bd24c61553a1e7479"
   }
  }
 },
 "nbformat": 4,
 "nbformat_minor": 4
}
